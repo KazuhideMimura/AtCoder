{
 "cells": [
  {
   "cell_type": "markdown",
   "metadata": {},
   "source": [
    "#### 提出用 input"
   ]
  },
  {
   "cell_type": "code",
   "execution_count": 2,
   "metadata": {},
   "outputs": [],
   "source": [
    "# n = int(input())\n",
    "# x, y, r = [], [], []\n",
    "# for i in range(n):\n",
    "#     xi, yi, ri = map(int, input().split())\n",
    "#     x.append(xi)\n",
    "#     y.append(yi)\n",
    "#     r.append(ri)"
   ]
  },
  {
   "cell_type": "markdown",
   "metadata": {},
   "source": [
    "#### 関数の定義"
   ]
  },
  {
   "cell_type": "code",
   "execution_count": 25,
   "metadata": {},
   "outputs": [],
   "source": [
    "def getArea(rec):\n",
    "    \"\"\"\n",
    "    長方形の面積を取得\n",
    "    input: (x_min, y_min, x_max, y_max)\n",
    "    \"\"\"\n",
    "    return((rec[2] - rec[0]) * (rec[3] - rec[1]))\n",
    "\n",
    "    \n",
    "def check_overlap_line(min1, max1, min2, max2):\n",
    "    \"\"\"\n",
    "    区間 [min1, max1] と [min2, max2] が重なりを持つか判定\n",
    "    端点を共有することは許容\n",
    "    \"\"\"\n",
    "    assert min1 < max1, 'min1 >= max1'\n",
    "    assert min2 < max2, 'min2 >= max2'\n",
    "    overlap_line = False\n",
    "    if all([min1 + 1 >= min2, min1 + 1 <= max2]):\n",
    "        overlap_line = True\n",
    "    elif all([max1 - 1 >= min2, max1 - 1 <= max2]):\n",
    "        overlap_line = True\n",
    "    elif all([min2 + 1 >= min1, min2 + 1 <= max1]):\n",
    "        overlap_line = True\n",
    "    elif all([max2 - 1 >= min1, max2 - 1 <= max1]):\n",
    "        overlap_line = True\n",
    "    return(overlap_line)\n",
    "    \n",
    "\n",
    "def check_overlap_rect(rect, i):\n",
    "    \"\"\"\n",
    "    i 番目の長方形が他の長方形と重なるか判定\n",
    "    \"\"\"\n",
    "    rec_i = rect[i]\n",
    "    rect_overlap = False\n",
    "    for j in range(len(rect)):\n",
    "        if i != j:\n",
    "            rec_j = rect[j]\n",
    "            x_overlap = check_overlap_line(rec_i[0], rec_i[2], rec_j[0], rec_j[2])\n",
    "            y_overlap = check_overlap_line(rec_i[1], rec_i[3], rec_j[1], rec_j[3])\n",
    "            rect_overlap = all([x_overlap , y_overlap])\n",
    "            if rect_overlap:\n",
    "                break\n",
    "    return(rect_overlap)\n",
    "    \n",
    "\n",
    "def expand_check(rect, i, new_rec, r):\n",
    "    \"\"\"\n",
    "    rect[i] を new_rec に置き換えられるかをチェックする\n",
    "    確認事項：面積がオーバーしない・領域が重ならない\n",
    "    拡張できる場合には書き替えた rect を返す\n",
    "    \"\"\"\n",
    "    flag = False\n",
    "    new_rect = rect.copy()\n",
    "    new_rect[i] = new_rec\n",
    "    if getArea(new_rect[i]) <= r[i]:\n",
    "        if not check_overlap_rect(new_rect, i):\n",
    "            rect = new_rect\n",
    "            flag = True\n",
    "    return(flag, rect)\n",
    "\n",
    "def expand_check2(rect, i, new_rec, r):\n",
    "    \"\"\"\n",
    "    rect[i] を new_rec に置き換えられるかをチェックする\n",
    "    確認事項：面積のスコアが高まる・領域が重ならない\n",
    "    拡張できる場合には書き替えた rect を返す\n",
    "    \"\"\"\n",
    "    flag = False\n",
    "    previous_area = getArea(rect[i])\n",
    "    previous_score = min(previous_area, r[i]) / max(previous_area, r[i])\n",
    "    \n",
    "    new_rect = rect.copy()\n",
    "    new_rect[i] = new_rec\n",
    "    new_area = getArea(new_rect[i])\n",
    "    new_score = min(new_area, r[i]) / max(new_area, r[i])\n",
    "    \n",
    "    if previous_score > new_score:\n",
    "        if not check_overlap_rect(new_rect, i):\n",
    "            rect = new_rect\n",
    "            flag = True\n",
    "    return(flag, rect)\n",
    "    \n",
    "\n",
    "def reduce_expand_step(expand_steps, i, ratio):\n",
    "    \"\"\"\n",
    "    expand_steps を 1/ratio に減少させる\n",
    "    もとが 1 の場合はそれ以上拡張できない状態を表す 0 とする\n",
    "    \"\"\"\n",
    "    assert ratio >= 2, 'error, ratio < 2'\n",
    "    if expand_steps[i] >= ratio:\n",
    "        expand_steps[i] = int(round(expand_steps[i] / ratio))\n",
    "    elif expand_steps[i] >= 2:\n",
    "        expand_steps[i] = 1\n",
    "    else:\n",
    "        expand_steps[i] = 0\n",
    "    return(expand_steps)\n",
    "    \n",
    "def generateAnswer(rect):\n",
    "    for i in range(len(rect)):\n",
    "        print(' '.join(map(str, rect[i])))"
   ]
  },
  {
   "cell_type": "code",
   "execution_count": 35,
   "metadata": {},
   "outputs": [],
   "source": [
    "# 提出時は不要\n",
    "import matplotlib.pyplot as plt\n",
    "import numpy as np\n",
    "import cv2\n",
    "def visualize(rect):\n",
    "    img = generate_img(rect)\n",
    "    if np.max(img) <= 1:\n",
    "        img = (img * 255)\n",
    "        img = cv2.resize(img, None, fx = 0.1, fy = 0.1) # 縮小して表示\n",
    "        plt.figure(figsize = (8, 8))\n",
    "        plt.imshow(img)\n",
    "        plt.gray()\n",
    "        plt.show()\n",
    "    else:\n",
    "        print('Error: image includes overlapped area(s)')\n",
    "        \n",
    "# 長方形を画像で表現\n",
    "def generate_img(rect):\n",
    "    img = np.zeros((size, size), dtype = np.uint8)\n",
    "    for rec in rect:\n",
    "        img[rec[1]:rec[3], rec[0]:rec[2]] += 1\n",
    "    return(img)\n"
   ]
  },
  {
   "cell_type": "code",
   "execution_count": 36,
   "metadata": {},
   "outputs": [],
   "source": [
    "# input 提出時は不要\n",
    "with open('AHC001.txt') as f:\n",
    "    lines = f.read().split('\\n')\n",
    "\n",
    "x, y, r = [], [], []\n",
    "\n",
    "for i, l in enumerate(lines):\n",
    "    if i == 0:\n",
    "        n = int(l)\n",
    "    else:\n",
    "        if i <= n:\n",
    "            xi, yi, ri = map(int, l.split())\n",
    "            x.append(xi)\n",
    "            y.append(yi)\n",
    "            r.append(ri)"
   ]
  },
  {
   "cell_type": "code",
   "execution_count": null,
   "metadata": {},
   "outputs": [],
   "source": []
  },
  {
   "cell_type": "markdown",
   "metadata": {},
   "source": [
    "#### 拡張"
   ]
  },
  {
   "cell_type": "code",
   "execution_count": 37,
   "metadata": {},
   "outputs": [
    {
     "data": {
      "image/png": "[encoded data removed]",
      "text/plain": [
       "<Figure size 576x576 with 1 Axes>"
      ]
     },
     "metadata": {
      "needs_background": "light"
     },
     "output_type": "display_data"
    }
   ],
   "source": [
    "size = 10000 # 外枠の正方形の一辺\n",
    "\n",
    "# 初期条件の設定\n",
    "initial_step = 100 # 拡張幅\n",
    "expand_steps = [initial_step] * n\n",
    "\n",
    "# 1 辺 1 の正方形を作成\n",
    "# 与えられる (x, y) に重複はないので，この段階では領域は重ならない\n",
    "# 長方形は，(x_min, y_min, x_max, y_max) で表記\n",
    "rect = []\n",
    "for i in range(n):\n",
    "    points = x[i], y[i], x[i] + 1, y[i] + 1\n",
    "    rect.append(points)\n",
    "    \n",
    "\n",
    "jmax = 1000\n",
    "reduce_ratio = 3\n",
    "\n",
    "for j in range(jmax):\n",
    "    if max(expand_steps) == 0:\n",
    "        break\n",
    "    else:\n",
    "        for i in range(len(rect)):\n",
    "\n",
    "            rec = rect[i]\n",
    "            step = expand_steps[i]\n",
    "            if step >= 1:\n",
    "                \n",
    "                # 長方形が拡張されたかをモニターする\n",
    "                expandeed = False\n",
    "                \n",
    "                # まずは正方形で拡張を試みる\n",
    "                new_rec = max(0, rec[0] - step), max(0, rec[1] - step), min(rec[2] + step, size), min(rec[3] + step, size)\n",
    "                expanded, rect = expand_check(rect, i, new_rec, r)                \n",
    "                \n",
    "                # 正方形での拡張ができない場合は，一方向ずつ拡張を試みる\n",
    "                if not expanded:\n",
    "                \n",
    "                    # 左に拡張\n",
    "                    if rec[0] >= 1:\n",
    "                        new_rec = max(0, rec[0] - step), rec[1], rec[2], rec[3]\n",
    "                        flag, rect = expand_check(rect, i, new_rec, r)  \n",
    "                        if flag:\n",
    "                            expanded = True\n",
    "                    # 右に拡張\n",
    "                    if rec[2] <= size - 1:\n",
    "                        new_rec = rec[0], rec[1], min(rec[2] + step, size), rec[3]\n",
    "                        flag, rect = expand_check(rect, i, new_rec, r)  \n",
    "                        if flag:\n",
    "                            expanded = True\n",
    "                    # 上に拡張\n",
    "                    if rec[1] >= 1:\n",
    "                        new_rec = rec[0], max(0, rec[1] - step), rec[2], rec[3]\n",
    "                        flag, rect = expand_check(rect, i, new_rec, r)  \n",
    "                        if flag:\n",
    "                            expanded = True\n",
    "                    # 下に拡張\n",
    "                    if rec[3] <= size - 1:\n",
    "                        new_rec = rec[0], rec[1], rec[2], min(rec[3] + step, size)\n",
    "                        flag, rect = expand_check(rect, i, new_rec, r)  \n",
    "                        if flag:\n",
    "                            expanded = True\n",
    "\n",
    "                # どの方向にも拡張できない場合は，expand_step を減らす\n",
    "                if not expanded:\n",
    "                    reduce_expand_step(expand_steps, i, reduce_ratio)\n",
    "                    \n",
    "# 2nd check\n",
    "# r を超えてもスコアが上がる場合には拡張\n",
    "# expand_steps = [1] * n\n",
    "for i in range(len(rect)):\n",
    "    rec = rect[i]\n",
    "#     step = expand_steps[i]\n",
    "    step = 1\n",
    "    \n",
    "    # 左に拡張\n",
    "    if rec[0] >= 1:\n",
    "        new_rec = max(0, rec[0] - step), rec[1], rec[2], rec[3]\n",
    "        _, rect = expand_check2(rect, i, new_rec, r)  \n",
    "    # 右に拡張\n",
    "    if rec[2] <= size - 1:\n",
    "        new_rec = rec[0], rec[1], min(rec[2] + step, size), rec[3]\n",
    "        _, rect = expand_check2(rect, i, new_rec, r)  \n",
    "    # 上に拡張\n",
    "    if rec[1] >= 1:\n",
    "        new_rec = rec[0], max(0, rec[1] - step), rec[2], rec[3]\n",
    "        _, rect = expand_check2(rect, i, new_rec, r)  \n",
    "    # 下に拡張\n",
    "    if rec[3] <= size - 1:\n",
    "        new_rec = rec[0], rec[1], rec[2], min(rec[3] + step, size)\n",
    "        _, rect = expand_check2(rect, i, new_rec, r)  \n",
    "                    \n",
    "# generateAnswer(rect)\n",
    "visualize(rect)"
   ]
  },
  {
   "cell_type": "code",
   "execution_count": 40,
   "metadata": {},
   "outputs": [
    {
     "data": {
      "text/plain": [
       "0.824"
      ]
     },
     "execution_count": 40,
     "metadata": {},
     "output_type": "execute_result"
    }
   ],
   "source": [
    "round(sum([round(getArea(rect[i])/r[i], 3) for i in range(n)]) / n, 3)"
   ]
  },
  {
   "cell_type": "code",
   "execution_count": null,
   "metadata": {},
   "outputs": [],
   "source": []
  },
  {
   "cell_type": "code",
   "execution_count": 32,
   "metadata": {},
   "outputs": [
    {
     "name": "stdout",
     "output_type": "stream",
     "text": [
      "rec: (1875, 326, 1944, 395)\n",
      "new_rec: (1775, 226, 2044, 495)\n",
      "area check: True\n",
      "overlap with 29\n",
      "overlap check True\n"
     ]
    }
   ],
   "source": [
    "i = 0\n",
    "rec = rect[i]\n",
    "print('rec:', rec)\n",
    "step = 100\n",
    "new_rec = max(0, rec[0] - step), max(0, rec[1] - step), min(rec[2] + step, size), min(rec[3] + step, size)\n",
    "print('new_rec:', new_rec)\n",
    "new_rect = rect.copy()\n",
    "new_rect[i] = new_rec\n",
    "print('area check:', getArea(new_rect[i]) <= r[i])\n",
    "print('overlap check', check_overlap_rect(new_rect, i))"
   ]
  },
  {
   "cell_type": "code",
   "execution_count": null,
   "metadata": {},
   "outputs": [],
   "source": []
  },
  {
   "cell_type": "code",
   "execution_count": null,
   "metadata": {},
   "outputs": [],
   "source": []
  }
 ],
 "metadata": {
  "kernelspec": {
   "display_name": "Python 3",
   "language": "python",
   "name": "python3"
  },
  "language_info": {
   "codemirror_mode": {
    "name": "ipython",
    "version": 3
   },
   "file_extension": ".py",
   "mimetype": "text/x-python",
   "name": "python",
   "nbconvert_exporter": "python",
   "pygments_lexer": "ipython3",
   "version": "3.7.3"
  }
 },
 "nbformat": 4,
 "nbformat_minor": 2
}
